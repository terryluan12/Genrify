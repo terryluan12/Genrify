{
 "cells": [
  {
   "cell_type": "code",
   "execution_count": 1,
   "metadata": {},
   "outputs": [],
   "source": [
    "# import libraries\n",
    "import numpy as np\n",
    "import time\n",
    "import torch\n",
    "import torch.nn as nn\n",
    "import torch.nn.functional as F\n",
    "import torch.optim as optim\n",
    "import torchvision\n",
    "from torch.utils.data.sampler import SubsetRandomSampler\n",
    "from torchvision import transforms, datasets\n",
    "import matplotlib.pyplot as plt\n",
    "import pandas as pd"
   ]
  },
  {
   "attachments": {},
   "cell_type": "markdown",
   "metadata": {},
   "source": [
    "## Obtaining GTZAN dataset\n",
    "\n",
    "We will be using `deeplake` to get the GTZAN dataset"
   ]
  },
  {
   "cell_type": "code",
   "execution_count": 3,
   "metadata": {},
   "outputs": [],
   "source": [
    "from IPython.display import clear_output\n",
    "# deep lake is not part of google colab by default\n",
    "!pip3 install deeplake\n",
    "\n",
    "clear_output()"
   ]
  },
  {
   "cell_type": "code",
   "execution_count": null,
   "metadata": {},
   "outputs": [],
   "source": [
    "# setting up the deeplake environment, so that we could download it\n",
    "import os\n",
    "os.environ['DEEPLAKE_DOWNLOAD_PATH']='./'"
   ]
  },
  {
   "cell_type": "code",
   "execution_count": 8,
   "metadata": {},
   "outputs": [
    {
     "name": "stderr",
     "output_type": "stream",
     "text": [
      "/"
     ]
    },
    {
     "name": "stdout",
     "output_type": "stream",
     "text": [
      "Opening dataset in read-only mode as you don't have write permissions.\n"
     ]
    },
    {
     "name": "stderr",
     "output_type": "stream",
     "text": [
      "Copying dataset: 0%|          | 0/102 [00:00<?\n",
      "Copying dataset: 1%|          | 1/102 [00:00<01:33\n",
      "Copying dataset: 2%|▏         | 2/102 [00:02<01:51\n",
      "Copying dataset: 3%|▎         | 3/102 [00:03<01:55\n",
      "Copying dataset: 4%|▍         | 4/102 [00:04<02:00\n",
      "Copying dataset: 5%|▍         | 5/102 [00:05<01:57\n",
      "Copying dataset: 6%|▌         | 6/102 [00:06<01:52\n",
      "Copying dataset: 7%|▋         | 7/102 [00:08<01:50\n",
      "Copying dataset: 8%|▊         | 8/102 [00:09<01:49\n",
      "Copying dataset: 9%|▉         | 9/102 [00:10<01:54\n",
      "Copying dataset: 10%|▉         | 10/102 [00:12<02:00\n",
      "Copying dataset: 11%|█         | 11/102 [00:13<02:07\n",
      "Copying dataset: 12%|█▏        | 12/102 [00:15<02:13\n",
      "Copying dataset: 13%|█▎        | 13/102 [00:17<02:18\n",
      "Copying dataset: 14%|█▎        | 14/102 [00:18<02:14\n",
      "Copying dataset: 15%|█▍        | 15/102 [00:20<02:14\n",
      "Copying dataset: 16%|█▌        | 16/102 [00:22<02:21\n",
      "Copying dataset: 17%|█▋        | 17/102 [00:23<02:14\n",
      "Copying dataset: 18%|█▊        | 18/102 [00:25<02:11\n",
      "Copying dataset: 19%|█▊        | 19/102 [00:26<02:04\n",
      "Copying dataset: 20%|█▉        | 20/102 [00:27<01:59\n",
      "Copying dataset: 21%|██        | 21/102 [00:29<01:58\n",
      "Copying dataset: 22%|██▏       | 22/102 [00:33<02:53\n",
      "Copying dataset: 23%|██▎       | 23/102 [00:36<03:12\n",
      "Copying dataset: 24%|██▎       | 24/102 [00:38<03:11\n",
      "Copying dataset: 25%|██▍       | 25/102 [00:40<03:02\n",
      "Copying dataset: 25%|██▌       | 26/102 [00:42<02:48\n",
      "Copying dataset: 26%|██▋       | 27/102 [00:44<02:38\n",
      "Copying dataset: 27%|██▋       | 28/102 [00:46<02:40\n",
      "Copying dataset: 28%|██▊       | 29/102 [00:50<03:03\n",
      "Copying dataset: 29%|██▉       | 30/102 [00:52<02:54\n",
      "Copying dataset: 30%|███       | 31/102 [00:54<02:37\n",
      "/"
     ]
    }
   ],
   "source": [
    "import deeplake\n",
    "ds = deeplake.load(\"hub://activeloop/gtzan-genre\", access_method=\"local\")"
   ]
  },
  {
   "cell_type": "code",
   "execution_count": null,
   "metadata": {},
   "outputs": [],
   "source": []
  }
 ],
 "metadata": {
  "kernelspec": {
   "display_name": "aps360",
   "language": "python",
   "name": "python3"
  },
  "language_info": {
   "codemirror_mode": {
    "name": "ipython",
    "version": 3
   },
   "file_extension": ".py",
   "mimetype": "text/x-python",
   "name": "python",
   "nbconvert_exporter": "python",
   "pygments_lexer": "ipython3",
   "version": "3.10.9"
  },
  "orig_nbformat": 4
 },
 "nbformat": 4,
 "nbformat_minor": 2
}
