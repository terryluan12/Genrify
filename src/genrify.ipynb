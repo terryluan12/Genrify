{
 "cells": [
  {
   "cell_type": "markdown",
   "metadata": {},
   "source": [
    "# Setup\n",
    "This Jupyter Notebook is meant to be executed directly from Google Colab in a plug and play manner.\n",
    "To enable this, the following code below can be run to set up the notebook "
   ]
  },
  {
   "cell_type": "code",
   "execution_count": null,
   "metadata": {},
   "outputs": [],
   "source": [
    "import os\n",
    "import sys\n",
    "\n",
    "!git clone https://github.com/terryluan12/Genrify.git\n",
    "!cd Genrify && make\n",
    "\n",
    "sys.path.insert(0, \"Genrify/src\")"
   ]
  },
  {
   "cell_type": "markdown",
   "metadata": {},
   "source": [
    "## Preprocessing Code\n",
    "The following code can be run to download the datasets and preprocess the datasets"
   ]
  },
  {
   "cell_type": "code",
   "execution_count": 1,
   "metadata": {},
   "outputs": [
    {
     "name": "stderr",
     "output_type": "stream",
     "text": [
      "c:\\Users\\Jack\\.conda\\envs\\aps360\\lib\\site-packages\\pydub\\utils.py:170: RuntimeWarning: Couldn't find ffmpeg or avconv - defaulting to ffmpeg, but may not work\n",
      "  warn(\"Couldn't find ffmpeg or avconv - defaulting to ffmpeg, but may not work\", RuntimeWarning)\n"
     ]
    }
   ],
   "source": [
    "from datasources import download_datasets\n",
    "from preprocessing import preprocess"
   ]
  },
  {
   "cell_type": "code",
   "execution_count": 8,
   "metadata": {},
   "outputs": [
    {
     "name": "stdout",
     "output_type": "stream",
     "text": [
      "Downloading Datasources...\n",
      "Downloaded Datasources\n",
      "Splitting processed Data into 4 exclusive datasets.\n"
     ]
    },
    {
     "ename": "ValueError",
     "evalue": "Sum of input lengths does not equal the length of the input dataset!",
     "output_type": "error",
     "traceback": [
      "\u001b[1;31m---------------------------------------------------------------------------\u001b[0m",
      "\u001b[1;31mValueError\u001b[0m                                Traceback (most recent call last)",
      "Cell \u001b[1;32mIn[8], line 7\u001b[0m\n\u001b[0;32m      4\u001b[0m \u001b[39mif\u001b[39;00m \u001b[39mnot\u001b[39;00m os\u001b[39m.\u001b[39mpath\u001b[39m.\u001b[39misdir(\u001b[39m\"\u001b[39m\u001b[39mGenrify/src/datasources/processed_data\u001b[39m\u001b[39m\"\u001b[39m):\n\u001b[0;32m      5\u001b[0m     download_datasets()\n\u001b[1;32m----> 7\u001b[0m preprocess(subset_num, \u001b[39m\"\u001b[39;49m\u001b[39m.\u001b[39;49m\u001b[39m\"\u001b[39;49m)\n",
      "File \u001b[1;32mc:\\Users\\Jack\\Documents\\vscode\\genrify_clone\\Genrify\\src\\preprocessing\\__init__.py:27\u001b[0m, in \u001b[0;36mpreprocess\u001b[1;34m(split_use, root_dir, split_num)\u001b[0m\n\u001b[0;32m     24\u001b[0m \u001b[39mif\u001b[39;00m \u001b[39mnot\u001b[39;00m os\u001b[39m.\u001b[39mpath\u001b[39m.\u001b[39misdir(data_dir):\n\u001b[0;32m     25\u001b[0m     split_into_3_seconds(os\u001b[39m.\u001b[39mpath\u001b[39m.\u001b[39mjoin(root_dir, \u001b[39m\"\u001b[39m\u001b[39mdatasources\u001b[39m\u001b[39m\"\u001b[39m))\n\u001b[1;32m---> 27\u001b[0m full_dataset\u001b[39m=\u001b[39m split_into_exclusive_datasets(data_dir)[split_use]\n\u001b[0;32m     28\u001b[0m \u001b[39m# TODO: Add function call to convert audio files to features\u001b[39;00m\n\u001b[0;32m     29\u001b[0m convert_to_spectrogram_images(full_dataset, root_dir)\n",
      "File \u001b[1;32mc:\\Users\\Jack\\Documents\\vscode\\genrify_clone\\Genrify\\src\\preprocessing\\split.py:45\u001b[0m, in \u001b[0;36msplit_into_exclusive_datasets\u001b[1;34m(datasources_dir, num_subsets)\u001b[0m\n\u001b[0;32m     42\u001b[0m equal_lengths \u001b[39m=\u001b[39m [divide \u001b[39mfor\u001b[39;00m _ \u001b[39min\u001b[39;00m \u001b[39mrange\u001b[39m(num_subsets)]\n\u001b[0;32m     44\u001b[0m full_dataset \u001b[39m=\u001b[39m DatasetFolder(datasources_dir, librosa\u001b[39m.\u001b[39mload, extensions\u001b[39m=\u001b[39m[\u001b[39m\"\u001b[39m\u001b[39m.wav\u001b[39m\u001b[39m\"\u001b[39m])\n\u001b[1;32m---> 45\u001b[0m full_subsets \u001b[39m=\u001b[39m torch\u001b[39m.\u001b[39;49mutils\u001b[39m.\u001b[39;49mdata\u001b[39m.\u001b[39;49mrandom_split(full_dataset, equal_lengths)\n\u001b[0;32m     46\u001b[0m \u001b[39mfor\u001b[39;00m full_subset \u001b[39min\u001b[39;00m full_subsets:\n\u001b[0;32m     47\u001b[0m     subset \u001b[39m=\u001b[39m torch\u001b[39m.\u001b[39mutils\u001b[39m.\u001b[39mdata\u001b[39m.\u001b[39mrandom_split(full_subset, subset_split)\n",
      "File \u001b[1;32mc:\\Users\\Jack\\.conda\\envs\\aps360\\lib\\site-packages\\torch\\utils\\data\\dataset.py:311\u001b[0m, in \u001b[0;36mrandom_split\u001b[1;34m(dataset, lengths, generator)\u001b[0m\n\u001b[0;32m    309\u001b[0m \u001b[39m# Cannot verify that dataset is Sized\u001b[39;00m\n\u001b[0;32m    310\u001b[0m \u001b[39mif\u001b[39;00m \u001b[39msum\u001b[39m(lengths) \u001b[39m!=\u001b[39m \u001b[39mlen\u001b[39m(dataset):    \u001b[39m# type: ignore[arg-type]\u001b[39;00m\n\u001b[1;32m--> 311\u001b[0m     \u001b[39mraise\u001b[39;00m \u001b[39mValueError\u001b[39;00m(\u001b[39m\"\u001b[39m\u001b[39mSum of input lengths does not equal the length of the input dataset!\u001b[39m\u001b[39m\"\u001b[39m)\n\u001b[0;32m    313\u001b[0m indices \u001b[39m=\u001b[39m randperm(\u001b[39msum\u001b[39m(lengths), generator\u001b[39m=\u001b[39mgenerator)\u001b[39m.\u001b[39mtolist()\n\u001b[0;32m    314\u001b[0m \u001b[39mreturn\u001b[39;00m [Subset(dataset, indices[offset \u001b[39m-\u001b[39m length : offset]) \u001b[39mfor\u001b[39;00m offset, length \u001b[39min\u001b[39;00m \u001b[39mzip\u001b[39m(_accumulate(lengths), lengths)]\n",
      "\u001b[1;31mValueError\u001b[0m: Sum of input lengths does not equal the length of the input dataset!"
     ]
    }
   ],
   "source": [
    "# Make sure to change subset_num to the subset which you are using\n",
    "subset_num = 3\n",
    "import os\n",
    "if not os.path.isdir(\"Genrify/src/datasources/processed_data\"):\n",
    "    download_datasets(\"Genrify/src\")\n",
    "\n",
    "preprocess(subset_num, \"Genrify/src\")"
   ]
  },
  {
   "cell_type": "code",
   "execution_count": 2,
   "metadata": {},
   "outputs": [],
   "source": [
    "from cnn import mfcc_model, training\n",
    "from utils import plot\n",
    "from cnn.datahandler.DataHandler import DataHandler"
   ]
  },
  {
   "cell_type": "markdown",
   "metadata": {},
   "source": [
    "## Example to training an model"
   ]
  },
  {
   "cell_type": "code",
   "execution_count": 1,
   "metadata": {},
   "outputs": [],
   "source": [
    "# training example\n",
    "# mfcc_data_dir = '~/Documents/vscode/Genrify/Data/mfcc'\n",
    "# mfcc_data_handler = DataHandler(mfcc_data_dir, batch_size=32, num_workers=4)\n",
    "# lr = 1e-4\n",
    "# num_epochs = 30\n",
    "# mfcc_cnn = mfcc_model.MFCC_CNN()\n",
    "# print(f\"Learning rate: {1e-4}\")\n",
    "# training.train(mfcc_cnn, mfcc_data_handler.train_loader, mfcc_data_handler.val_loader, num_epochs, lr, 32)\n",
    "# plot.plot_training(\"MFCC\", lr, 32, num_epochs-1)\n",
    "# plot.plot_confusion_matrix(\"MFCC\", lr, 32, num_epochs-1)"
   ]
  },
  {
   "cell_type": "code",
   "execution_count": null,
   "metadata": {},
   "outputs": [],
   "source": []
  }
 ],
 "metadata": {
  "kernelspec": {
   "display_name": "aps360",
   "language": "python",
   "name": "python3"
  },
  "language_info": {
   "codemirror_mode": {
    "name": "ipython",
    "version": 3
   },
   "file_extension": ".py",
   "mimetype": "text/x-python",
   "name": "python",
   "nbconvert_exporter": "python",
   "pygments_lexer": "ipython3",
   "version": "3.10.9"
  },
  "orig_nbformat": 4
 },
 "nbformat": 4,
 "nbformat_minor": 2
}
