{
 "cells": [
  {
   "cell_type": "markdown",
   "metadata": {},
   "source": [
    "# Setup\n",
    "This Jupyter Notebook is meant to be executed directly from Google Colab in a plug and play manner.\n",
    "To enable this, the following code below can be run to set up the notebook "
   ]
  },
  {
   "cell_type": "code",
   "execution_count": null,
   "metadata": {},
   "outputs": [],
   "source": [
    "import os\n",
    "import sys\n",
    "\n",
    "!git clone https://github.com/terryluan12/Genrify.git\n",
    "!cd Genrify && make\n",
    "\n",
    "sys.path.insert(0, \"Genrify/src\")"
   ]
  },
  {
   "cell_type": "markdown",
   "metadata": {},
   "source": [
    "Run code below if using Google Drive for retrieving test data and CNN models for the Ensemble model"
   ]
  },
  {
   "cell_type": "code",
   "execution_count": null,
   "metadata": {},
   "outputs": [],
   "source": [
    "from google.colab import drive\n",
    "# Mount Google Drive\n",
    "drive.mount('/content/drive', force_remount=True)"
   ]
  },
  {
   "cell_type": "markdown",
   "metadata": {},
   "source": [
    "## Preprocessing Code\n",
    "The following code can be run to download the datasets and preprocess the datasets"
   ]
  },
  {
   "cell_type": "code",
   "execution_count": 1,
   "metadata": {},
   "outputs": [
    {
     "name": "stderr",
     "output_type": "stream",
     "text": [
      "c:\\Users\\Jack\\.conda\\envs\\aps360\\lib\\site-packages\\pydub\\utils.py:170: RuntimeWarning: Couldn't find ffmpeg or avconv - defaulting to ffmpeg, but may not work\n",
      "  warn(\"Couldn't find ffmpeg or avconv - defaulting to ffmpeg, but may not work\", RuntimeWarning)\n"
     ]
    }
   ],
   "source": [
    "from datasources import download_datasets, convert_files_to_wav\n",
    "from preprocessing import preprocess"
   ]
  },
  {
   "cell_type": "code",
   "execution_count": null,
   "metadata": {},
   "outputs": [],
   "source": [
    "# Make sure to change subset_num to the subset which you are using\n",
    "subset_num = None\n",
    "#Possible method values:\n",
    "#\"spec\", \"mel\", \"chroma\", \"mfcc\" to retrieve exclusive training datasets\n",
    "#\"create_testing_data\" to create testing data for the first time (not needed anymore due to option below)\n",
    "#\"test\" to unzip already created testing data from Google Drive\n",
    "method = None\n",
    "\n",
    "if method==\"create_testing_data\":\n",
    "    from google.colab import drive\n",
    "    # Mount Google Drive\n",
    "    drive.mount('/content/drive', force_remount=True)\n",
    "    !unzip /content/drive/MyDrive/APS360_Team_Project/test_data_mp3.zip\n",
    "    data_dir = \"/content/test_data_mp3\"\n",
    "    output_dir = \"/content/Genrify/src/datasources/test_data_wav\"\n",
    "    convert_files_to_wav(data_dir, output_dir)\n",
    "elif not os.path.isdir(\"Genrify/src/datasources/processed_data\"):\n",
    "    download_datasets(\"Genrify/src\")\n",
    "\n",
    "if method!=\"test\":\n",
    "    preprocess(subset_num, method, \"Genrify/src\")\n",
    "else:\n",
    "    !unzip -q '/content/drive/MyDrive/APS360_Team_Project/test_mel.zip' -d '/'\n",
    "    !unzip -q '/content/drive/MyDrive/APS360_Team_Project/test_spectrogram.zip' -d '/'\n",
    "    !unzip -q '/content/drive/MyDrive/APS360_Team_Project/test_chroma.zip' -d '/'\n",
    "    !unzip -q '/content/drive/MyDrive/APS360_Team_Project/test_mfcc.zip' -d '/'"
   ]
  },
  {
   "cell_type": "code",
   "execution_count": 2,
   "metadata": {},
   "outputs": [],
   "source": [
    "from cnn import mfcc_model, training\n",
    "from utils import plot\n",
    "from cnn.datahandler.DataHandler import DataHandler"
   ]
  },
  {
   "cell_type": "markdown",
   "metadata": {},
   "source": [
    "# Ensemble Model\n",
    "This code block implements ensemle learning for all of our best models"
   ]
  },
  {
   "cell_type": "code",
   "execution_count": null,
   "metadata": {},
   "outputs": [],
   "source": [
    "from ensemble import ensemble\n",
    "\n",
    "# Ideally, we should get the dataloader for the full dataset\n",
    "spec_data_dir = '/content/Genrify/src/datasources/spectrogram'\n",
    "spec_data_handler = DataHandler(spec_data_dir, batch_size=32, num_workers=4)\n",
    "\n",
    "print(\"Test Accuracy:\", ensemble.full_model(spec_data_handler.test_loader, cuda=True))"
   ]
  },
  {
   "cell_type": "markdown",
   "metadata": {},
   "source": [
    "## Example to training an model"
   ]
  },
  {
   "cell_type": "code",
   "execution_count": 1,
   "metadata": {},
   "outputs": [],
   "source": [
    "# # training example\n",
    "# mfcc_data_dir = os.path.join(\"Genrify\", \"src\", \"datasources\", \"mfcc\")\n",
    "# mfcc_data_handler = DataHandler(mfcc_data_dir, batch_size=32, num_workers=4)\n",
    "# lr = 1e-4\n",
    "# num_epochs = 30\n",
    "# mfcc_cnn = mfcc_model.MFCC_CNN()\n",
    "# print(f\"Learning rate: {1e-4}\")\n",
    "# training.train(mfcc_cnn, mfcc_data_handler.train_loader, mfcc_data_handler.val_loader, num_epochs, lr, 32)\n",
    "# model_path = training.get_model_name(mfcc_cnn.name, 32, lr, num_epochs-1)\n",
    "\n",
    "# # plot in the notebook\n",
    "# %matplotlib inline\n",
    "# plot.plot_training_curve(model_path)\n",
    "# plot.plot_confusion_matrix(model_path, range(10))"
   ]
  },
  {
   "cell_type": "code",
   "execution_count": null,
   "metadata": {},
   "outputs": [],
   "source": []
  }
 ],
 "metadata": {
  "kernelspec": {
   "display_name": "aps360",
   "language": "python",
   "name": "python3"
  },
  "language_info": {
   "codemirror_mode": {
    "name": "ipython",
    "version": 3
   },
   "file_extension": ".py",
   "mimetype": "text/x-python",
   "name": "python",
   "nbconvert_exporter": "python",
   "pygments_lexer": "ipython3",
   "version": "3.6.10"
  },
  "orig_nbformat": 4
 },
 "nbformat": 4,
 "nbformat_minor": 2
}
