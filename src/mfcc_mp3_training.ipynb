{
 "cells": [
  {
   "cell_type": "code",
   "execution_count": null,
   "metadata": {},
   "outputs": [],
   "source": [
    "import os\n",
    "import sys\n",
    "\n",
    "!git clone https://github.com/terryluan12/Genrify.git\n",
    "!cd Genrify && make\n",
    "\n",
    "sys.path.insert(0, \"Genrify/src\")"
   ]
  },
  {
   "cell_type": "code",
   "execution_count": null,
   "metadata": {},
   "outputs": [],
   "source": [
    "from google.colab import drive\n",
    "# Mount Google Drive\n",
    "drive.mount('/content/drive', force_remount=True)"
   ]
  },
  {
   "cell_type": "code",
   "execution_count": 1,
   "metadata": {},
   "outputs": [],
   "source": [
    "from datasources import download_datasets, convert_files\n",
    "from preprocessing import preprocess\n",
    "from cnn.testhandler.TestHandler import TestHandler"
   ]
  },
  {
   "cell_type": "code",
   "execution_count": 3,
   "metadata": {},
   "outputs": [
    {
     "name": "stdout",
     "output_type": "stream",
     "text": [
      "Downloading Datasources...\n",
      "Downloaded Datasources\n"
     ]
    }
   ],
   "source": [
    "# Make sure to change subset_num to the subset which you are using\n",
    "subset_num = 3 # not used for testing data\n",
    "#Possible method values:\n",
    "#\"spec\", \"mel\", \"chroma\", \"mfcc\" to retrieve exclusive training datasets\n",
    "#\"create_testing_data\" to create testing data for the first time (not needed anymore due to option below)\n",
    "#\"test\" to unzip already preprocessed testing data from Google Drive\n",
    "wavTomp3Towav = True  #if testing out converting gtzan from wav to mp3 back to wav\n",
    "method = \"mfcc\"\n",
    "\n",
    "if method!=\"test\":\n",
    "    if method==\"create_testing_data\":\n",
    "        !unzip /content/drive/MyDrive/\"APS360 Team Project\"/Test_Data/test_data_mp3.zip\n",
    "        data_dir = \"/content/test_data_mp3\"\n",
    "        output_dir = \"/content/Genrify/src/datasources/test_data_wav\"\n",
    "        convert_files(data_dir, output_dir, wavToMp3=False)\n",
    "    elif not os.path.isdir(\"Genrify/src/datasources/processed_data\"):\n",
    "        download_datasets(\"Genrify/src\")\n",
    "        if wavTomp3Towav:\n",
    "            !mv /content/Genrify/src/datasources/Data/genres_original /content\n",
    "            data_dir = \"/content/genres_original\"\n",
    "            output1_dir = \"/content/genres_original_mp3\"\n",
    "            convert_files(data_dir, output1_dir, wavToMp3=True)\n",
    "            output2_dir = \"/content/Genrify/src/datasources/Data/genres_original\" #This will now contain the WAV files converted back from MP3\n",
    "            convert_files(output1_dir, output2_dir, wavToMp3=False)\n",
    "\n",
    "    preprocess(subset_num, method, \"Genrify/src\")\n",
    "\n",
    "else:\n",
    "    #Unzipping already preprocessed testing data\n",
    "    !unzip -q '/content/drive/MyDrive/APS360 Team Project/Test_Data/test_mel.zip' -d '/'\n",
    "    !unzip -q '/content/drive/MyDrive/APS360 Team Project/Test_Data/test_spectrogram.zip' -d '/'\n",
    "    !unzip -q '/content/drive/MyDrive/APS360 Team Project/Test_Data/test_chroma.zip' -d '/'\n",
    "    !unzip -q '/content/drive/MyDrive/APS360 Team Project/Test_Data/test_mfcc.zip' -d '/'\n",
    "    test_handler = TestHandler(batch_size=1, num_workers=1)"
   ]
  },
  {
   "cell_type": "code",
   "execution_count": null,
   "metadata": {},
   "outputs": [],
   "source": [
    "from cnn import mfcc_model, mfcc_training\n",
    "from utils import plot\n",
    "from cnn.datahandler.DataHandler import DataHandler\n",
    "import os\n",
    "import torch"
   ]
  },
  {
   "cell_type": "code",
   "execution_count": null,
   "metadata": {},
   "outputs": [],
   "source": [
    "root_dir = \"/content/Genrify/src\"\n",
    "mfcc_data_dir = os.path.join(root_dir, \"datasources\", \"mfcc\")\n",
    "mfcc_data_handler = DataHandler(mfcc_data_dir, batch_size=32, num_workers=4)\n",
    "for ss, g in [(5, 0.3)]:\n",
    "    for lr in [5e-5, 1e-4, 2e-4, 3e-4, 5e-4, 1e-3, 2e-3]:\n",
    "        num_epochs = 60\n",
    "        mfcc_cnn = mfcc_model.MFCC_Resnet(num_classes=10)\n",
    "        print(f\"Learning rate: {lr}, Subset size: {ss}, Gamma: {g}\")\n",
    "        best_epoch = mfcc_training.train(mfcc_cnn, mfcc_data_handler.train_loader, mfcc_data_handler.val_loader, num_epochs, lr, 32, ss, g, patience=5)\n",
    "        model_path = mfcc_training.get_model_name(mfcc_cnn.name, 32, lr, best_epoch)\n",
    "        %matplotlib inline\n",
    "        # plot.plot_training_curve(model_path)\n",
    "        # plot.plot_confusion_matrix(model_path, range(10))"
   ]
  }
 ],
 "metadata": {
  "kernelspec": {
   "display_name": "aps360",
   "language": "python",
   "name": "python3"
  },
  "language_info": {
   "codemirror_mode": {
    "name": "ipython",
    "version": 3
   },
   "file_extension": ".py",
   "mimetype": "text/x-python",
   "name": "python",
   "nbconvert_exporter": "python",
   "pygments_lexer": "ipython3",
   "version": "3.10.9"
  },
  "orig_nbformat": 4
 },
 "nbformat": 4,
 "nbformat_minor": 2
}
